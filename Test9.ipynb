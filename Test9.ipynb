{
 "cells": [
  {
   "cell_type": "code",
   "execution_count": null,
   "id": "a1060605",
   "metadata": {},
   "outputs": [],
   "source": [
    "def char_frequency(str1): \n",
    "    mydict = {} \n",
    "    for i in str1 :\n",
    "        keys =mydict.keys() # creer le dictionnaire \n",
    "        if i in keys : \n",
    "            mydict[i] += 1 \n",
    "        else: \n",
    "            mydict[i] = 1 \n",
    "    return mydict\n",
    "#print(char_frequency('google.com')) \n",
    "\n",
    "print('Donnez une chaine de carractere : ')\n",
    "x=input()\n",
    "char_frequency(x)"
   ]
  }
 ],
 "metadata": {
  "kernelspec": {
   "display_name": "Python 3 (ipykernel)",
   "language": "python",
   "name": "python3"
  },
  "language_info": {
   "codemirror_mode": {
    "name": "ipython",
    "version": 3
   },
   "file_extension": ".py",
   "mimetype": "text/x-python",
   "name": "python",
   "nbconvert_exporter": "python",
   "pygments_lexer": "ipython3",
   "version": "3.9.7"
  }
 },
 "nbformat": 4,
 "nbformat_minor": 5
}
